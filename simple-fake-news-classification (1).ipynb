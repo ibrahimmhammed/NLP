{
 "cells": [
  {
   "cell_type": "code",
   "execution_count": 1,
   "id": "f1f71f42",
   "metadata": {
    "_cell_guid": "b1076dfc-b9ad-4769-8c92-a6c4dae69d19",
    "_uuid": "8f2839f25d086af736a60e9eeb907d3b93b6e0e5",
    "execution": {
     "iopub.execute_input": "2023-12-07T12:45:06.032573Z",
     "iopub.status.busy": "2023-12-07T12:45:06.031767Z",
     "iopub.status.idle": "2023-12-07T12:45:28.812668Z",
     "shell.execute_reply": "2023-12-07T12:45:28.811389Z"
    },
    "papermill": {
     "duration": 22.795783,
     "end_time": "2023-12-07T12:45:28.815434",
     "exception": false,
     "start_time": "2023-12-07T12:45:06.019651",
     "status": "completed"
    },
    "tags": []
   },
   "outputs": [
    {
     "name": "stdout",
     "output_type": "stream",
     "text": [
      "[nltk_data] Error loading stopwords: <urlopen error [Errno -3]\n",
      "[nltk_data]     Temporary failure in name resolution>\n",
      "/kaggle/input/fake-and-real-news-dataset/True.csv\n",
      "/kaggle/input/fake-and-real-news-dataset/Fake.csv\n"
     ]
    }
   ],
   "source": [
    "#Importing Libraries\n",
    "\n",
    "\n",
    "import numpy as np \n",
    "import pandas as pd \n",
    "import re\n",
    "from nltk.corpus import stopwords\n",
    "from nltk.stem.porter import PorterStemmer\n",
    "from sklearn.feature_extraction.text import TfidfVectorizer\n",
    "from sklearn.model_selection import train_test_split\n",
    "from sklearn.linear_model import LogisticRegression\n",
    "from sklearn.metrics import accuracy_score\n",
    "import nltk\n",
    "nltk.download('stopwords')\n",
    "import os\n",
    "for dirname, _, filenames in os.walk('/kaggle/input'):\n",
    "    for filename in filenames:\n",
    "        print(os.path.join(dirname, filename))\n",
    "\n"
   ]
  },
  {
   "cell_type": "code",
   "execution_count": 2,
   "id": "ee9fd5ce",
   "metadata": {
    "execution": {
     "iopub.execute_input": "2023-12-07T12:45:28.838992Z",
     "iopub.status.busy": "2023-12-07T12:45:28.837678Z",
     "iopub.status.idle": "2023-12-07T12:45:28.851243Z",
     "shell.execute_reply": "2023-12-07T12:45:28.849945Z"
    },
    "papermill": {
     "duration": 0.027866,
     "end_time": "2023-12-07T12:45:28.853835",
     "exception": false,
     "start_time": "2023-12-07T12:45:28.825969",
     "status": "completed"
    },
    "tags": []
   },
   "outputs": [
    {
     "name": "stdout",
     "output_type": "stream",
     "text": [
      "['i', 'me', 'my', 'myself', 'we', 'our', 'ours', 'ourselves', 'you', \"you're\", \"you've\", \"you'll\", \"you'd\", 'your', 'yours', 'yourself', 'yourselves', 'he', 'him', 'his', 'himself', 'she', \"she's\", 'her', 'hers', 'herself', 'it', \"it's\", 'its', 'itself', 'they', 'them', 'their', 'theirs', 'themselves', 'what', 'which', 'who', 'whom', 'this', 'that', \"that'll\", 'these', 'those', 'am', 'is', 'are', 'was', 'were', 'be', 'been', 'being', 'have', 'has', 'had', 'having', 'do', 'does', 'did', 'doing', 'a', 'an', 'the', 'and', 'but', 'if', 'or', 'because', 'as', 'until', 'while', 'of', 'at', 'by', 'for', 'with', 'about', 'against', 'between', 'into', 'through', 'during', 'before', 'after', 'above', 'below', 'to', 'from', 'up', 'down', 'in', 'out', 'on', 'off', 'over', 'under', 'again', 'further', 'then', 'once', 'here', 'there', 'when', 'where', 'why', 'how', 'all', 'any', 'both', 'each', 'few', 'more', 'most', 'other', 'some', 'such', 'no', 'nor', 'not', 'only', 'own', 'same', 'so', 'than', 'too', 'very', 's', 't', 'can', 'will', 'just', 'don', \"don't\", 'should', \"should've\", 'now', 'd', 'll', 'm', 'o', 're', 've', 'y', 'ain', 'aren', \"aren't\", 'couldn', \"couldn't\", 'didn', \"didn't\", 'doesn', \"doesn't\", 'hadn', \"hadn't\", 'hasn', \"hasn't\", 'haven', \"haven't\", 'isn', \"isn't\", 'ma', 'mightn', \"mightn't\", 'mustn', \"mustn't\", 'needn', \"needn't\", 'shan', \"shan't\", 'shouldn', \"shouldn't\", 'wasn', \"wasn't\", 'weren', \"weren't\", 'won', \"won't\", 'wouldn', \"wouldn't\"]\n"
     ]
    }
   ],
   "source": [
    "print(stopwords.words('english')) #these words dont have any value on our dataset"
   ]
  },
  {
   "cell_type": "markdown",
   "id": "a86b5677",
   "metadata": {
    "papermill": {
     "duration": 0.009635,
     "end_time": "2023-12-07T12:45:28.873735",
     "exception": false,
     "start_time": "2023-12-07T12:45:28.864100",
     "status": "completed"
    },
    "tags": []
   },
   "source": [
    "# **Reading Files**"
   ]
  },
  {
   "cell_type": "code",
   "execution_count": 3,
   "id": "a17e8527",
   "metadata": {
    "execution": {
     "iopub.execute_input": "2023-12-07T12:45:28.895839Z",
     "iopub.status.busy": "2023-12-07T12:45:28.895146Z",
     "iopub.status.idle": "2023-12-07T12:45:30.371345Z",
     "shell.execute_reply": "2023-12-07T12:45:30.370162Z"
    },
    "papermill": {
     "duration": 1.490448,
     "end_time": "2023-12-07T12:45:30.374078",
     "exception": false,
     "start_time": "2023-12-07T12:45:28.883630",
     "status": "completed"
    },
    "tags": []
   },
   "outputs": [],
   "source": [
    "df_true = pd.read_csv('/kaggle/input/fake-and-real-news-dataset/True.csv')"
   ]
  },
  {
   "cell_type": "code",
   "execution_count": 4,
   "id": "c689c70e",
   "metadata": {
    "execution": {
     "iopub.execute_input": "2023-12-07T12:45:30.396420Z",
     "iopub.status.busy": "2023-12-07T12:45:30.395995Z",
     "iopub.status.idle": "2023-12-07T12:45:32.156768Z",
     "shell.execute_reply": "2023-12-07T12:45:32.155294Z"
    },
    "papermill": {
     "duration": 1.775869,
     "end_time": "2023-12-07T12:45:32.160313",
     "exception": false,
     "start_time": "2023-12-07T12:45:30.384444",
     "status": "completed"
    },
    "tags": []
   },
   "outputs": [],
   "source": [
    "df_fake = pd.read_csv('/kaggle/input/fake-and-real-news-dataset/Fake.csv')"
   ]
  },
  {
   "cell_type": "markdown",
   "id": "52068c03",
   "metadata": {
    "papermill": {
     "duration": 0.009628,
     "end_time": "2023-12-07T12:45:32.183016",
     "exception": false,
     "start_time": "2023-12-07T12:45:32.173388",
     "status": "completed"
    },
    "tags": []
   },
   "source": [
    "# **Data Exploration & Pre-Proccessing**"
   ]
  },
  {
   "cell_type": "code",
   "execution_count": 5,
   "id": "677b58f8",
   "metadata": {
    "execution": {
     "iopub.execute_input": "2023-12-07T12:45:32.204998Z",
     "iopub.status.busy": "2023-12-07T12:45:32.204418Z",
     "iopub.status.idle": "2023-12-07T12:45:32.214257Z",
     "shell.execute_reply": "2023-12-07T12:45:32.213092Z"
    },
    "papermill": {
     "duration": 0.023954,
     "end_time": "2023-12-07T12:45:32.217021",
     "exception": false,
     "start_time": "2023-12-07T12:45:32.193067",
     "status": "completed"
    },
    "tags": []
   },
   "outputs": [
    {
     "data": {
      "text/plain": [
       "(21417, 4)"
      ]
     },
     "execution_count": 5,
     "metadata": {},
     "output_type": "execute_result"
    }
   ],
   "source": [
    "df_true.shape"
   ]
  },
  {
   "cell_type": "code",
   "execution_count": 6,
   "id": "a8a1ca4d",
   "metadata": {
    "execution": {
     "iopub.execute_input": "2023-12-07T12:45:32.259533Z",
     "iopub.status.busy": "2023-12-07T12:45:32.258357Z",
     "iopub.status.idle": "2023-12-07T12:45:32.266105Z",
     "shell.execute_reply": "2023-12-07T12:45:32.264861Z"
    },
    "papermill": {
     "duration": 0.02192,
     "end_time": "2023-12-07T12:45:32.268757",
     "exception": false,
     "start_time": "2023-12-07T12:45:32.246837",
     "status": "completed"
    },
    "tags": []
   },
   "outputs": [
    {
     "data": {
      "text/plain": [
       "(23481, 4)"
      ]
     },
     "execution_count": 6,
     "metadata": {},
     "output_type": "execute_result"
    }
   ],
   "source": [
    "df_fake.shape"
   ]
  },
  {
   "cell_type": "code",
   "execution_count": 7,
   "id": "53085323",
   "metadata": {
    "execution": {
     "iopub.execute_input": "2023-12-07T12:45:32.291484Z",
     "iopub.status.busy": "2023-12-07T12:45:32.291076Z",
     "iopub.status.idle": "2023-12-07T12:45:32.323189Z",
     "shell.execute_reply": "2023-12-07T12:45:32.321985Z"
    },
    "papermill": {
     "duration": 0.046499,
     "end_time": "2023-12-07T12:45:32.325730",
     "exception": false,
     "start_time": "2023-12-07T12:45:32.279231",
     "status": "completed"
    },
    "tags": []
   },
   "outputs": [
    {
     "data": {
      "text/plain": [
       "title      0\n",
       "text       0\n",
       "subject    0\n",
       "date       0\n",
       "dtype: int64"
      ]
     },
     "execution_count": 7,
     "metadata": {},
     "output_type": "execute_result"
    }
   ],
   "source": [
    "df_true.isnull().sum()"
   ]
  },
  {
   "cell_type": "code",
   "execution_count": 8,
   "id": "8649ef36",
   "metadata": {
    "execution": {
     "iopub.execute_input": "2023-12-07T12:45:32.349696Z",
     "iopub.status.busy": "2023-12-07T12:45:32.349283Z",
     "iopub.status.idle": "2023-12-07T12:45:32.371083Z",
     "shell.execute_reply": "2023-12-07T12:45:32.369825Z"
    },
    "papermill": {
     "duration": 0.037259,
     "end_time": "2023-12-07T12:45:32.373629",
     "exception": false,
     "start_time": "2023-12-07T12:45:32.336370",
     "status": "completed"
    },
    "tags": []
   },
   "outputs": [
    {
     "data": {
      "text/plain": [
       "title      0\n",
       "text       0\n",
       "subject    0\n",
       "date       0\n",
       "dtype: int64"
      ]
     },
     "execution_count": 8,
     "metadata": {},
     "output_type": "execute_result"
    }
   ],
   "source": [
    "df_fake.isnull().sum()"
   ]
  },
  {
   "cell_type": "markdown",
   "id": "e7230f42",
   "metadata": {
    "papermill": {
     "duration": 0.010019,
     "end_time": "2023-12-07T12:45:32.394158",
     "exception": false,
     "start_time": "2023-12-07T12:45:32.384139",
     "status": "completed"
    },
    "tags": []
   },
   "source": [
    "Now , lets adding our 2 df in a one df"
   ]
  },
  {
   "cell_type": "code",
   "execution_count": 9,
   "id": "e3301d02",
   "metadata": {
    "execution": {
     "iopub.execute_input": "2023-12-07T12:45:32.417141Z",
     "iopub.status.busy": "2023-12-07T12:45:32.416708Z",
     "iopub.status.idle": "2023-12-07T12:45:32.452427Z",
     "shell.execute_reply": "2023-12-07T12:45:32.451178Z"
    },
    "papermill": {
     "duration": 0.050636,
     "end_time": "2023-12-07T12:45:32.455243",
     "exception": false,
     "start_time": "2023-12-07T12:45:32.404607",
     "status": "completed"
    },
    "tags": []
   },
   "outputs": [
    {
     "data": {
      "text/html": [
       "<div>\n",
       "<style scoped>\n",
       "    .dataframe tbody tr th:only-of-type {\n",
       "        vertical-align: middle;\n",
       "    }\n",
       "\n",
       "    .dataframe tbody tr th {\n",
       "        vertical-align: top;\n",
       "    }\n",
       "\n",
       "    .dataframe thead th {\n",
       "        text-align: right;\n",
       "    }\n",
       "</style>\n",
       "<table border=\"1\" class=\"dataframe\">\n",
       "  <thead>\n",
       "    <tr style=\"text-align: right;\">\n",
       "      <th></th>\n",
       "      <th>title</th>\n",
       "      <th>text</th>\n",
       "      <th>subject</th>\n",
       "      <th>date</th>\n",
       "      <th>label</th>\n",
       "    </tr>\n",
       "  </thead>\n",
       "  <tbody>\n",
       "    <tr>\n",
       "      <th>0</th>\n",
       "      <td>As U.S. budget fight looms, Republicans flip t...</td>\n",
       "      <td>WASHINGTON (Reuters) - The head of a conservat...</td>\n",
       "      <td>politicsNews</td>\n",
       "      <td>December 31, 2017</td>\n",
       "      <td>0</td>\n",
       "    </tr>\n",
       "    <tr>\n",
       "      <th>1</th>\n",
       "      <td>U.S. military to accept transgender recruits o...</td>\n",
       "      <td>WASHINGTON (Reuters) - Transgender people will...</td>\n",
       "      <td>politicsNews</td>\n",
       "      <td>December 29, 2017</td>\n",
       "      <td>0</td>\n",
       "    </tr>\n",
       "    <tr>\n",
       "      <th>2</th>\n",
       "      <td>Senior U.S. Republican senator: 'Let Mr. Muell...</td>\n",
       "      <td>WASHINGTON (Reuters) - The special counsel inv...</td>\n",
       "      <td>politicsNews</td>\n",
       "      <td>December 31, 2017</td>\n",
       "      <td>0</td>\n",
       "    </tr>\n",
       "    <tr>\n",
       "      <th>3</th>\n",
       "      <td>FBI Russia probe helped by Australian diplomat...</td>\n",
       "      <td>WASHINGTON (Reuters) - Trump campaign adviser ...</td>\n",
       "      <td>politicsNews</td>\n",
       "      <td>December 30, 2017</td>\n",
       "      <td>0</td>\n",
       "    </tr>\n",
       "    <tr>\n",
       "      <th>4</th>\n",
       "      <td>Trump wants Postal Service to charge 'much mor...</td>\n",
       "      <td>SEATTLE/WASHINGTON (Reuters) - President Donal...</td>\n",
       "      <td>politicsNews</td>\n",
       "      <td>December 29, 2017</td>\n",
       "      <td>0</td>\n",
       "    </tr>\n",
       "    <tr>\n",
       "      <th>...</th>\n",
       "      <td>...</td>\n",
       "      <td>...</td>\n",
       "      <td>...</td>\n",
       "      <td>...</td>\n",
       "      <td>...</td>\n",
       "    </tr>\n",
       "    <tr>\n",
       "      <th>44893</th>\n",
       "      <td>McPain: John McCain Furious That Iran Treated ...</td>\n",
       "      <td>21st Century Wire says As 21WIRE reported earl...</td>\n",
       "      <td>Middle-east</td>\n",
       "      <td>January 16, 2016</td>\n",
       "      <td>1</td>\n",
       "    </tr>\n",
       "    <tr>\n",
       "      <th>44894</th>\n",
       "      <td>JUSTICE? Yahoo Settles E-mail Privacy Class-ac...</td>\n",
       "      <td>21st Century Wire says It s a familiar theme. ...</td>\n",
       "      <td>Middle-east</td>\n",
       "      <td>January 16, 2016</td>\n",
       "      <td>1</td>\n",
       "    </tr>\n",
       "    <tr>\n",
       "      <th>44895</th>\n",
       "      <td>Sunnistan: US and Allied ‘Safe Zone’ Plan to T...</td>\n",
       "      <td>Patrick Henningsen  21st Century WireRemember ...</td>\n",
       "      <td>Middle-east</td>\n",
       "      <td>January 15, 2016</td>\n",
       "      <td>1</td>\n",
       "    </tr>\n",
       "    <tr>\n",
       "      <th>44896</th>\n",
       "      <td>How to Blow $700 Million: Al Jazeera America F...</td>\n",
       "      <td>21st Century Wire says Al Jazeera America will...</td>\n",
       "      <td>Middle-east</td>\n",
       "      <td>January 14, 2016</td>\n",
       "      <td>1</td>\n",
       "    </tr>\n",
       "    <tr>\n",
       "      <th>44897</th>\n",
       "      <td>10 U.S. Navy Sailors Held by Iranian Military ...</td>\n",
       "      <td>21st Century Wire says As 21WIRE predicted in ...</td>\n",
       "      <td>Middle-east</td>\n",
       "      <td>January 12, 2016</td>\n",
       "      <td>1</td>\n",
       "    </tr>\n",
       "  </tbody>\n",
       "</table>\n",
       "<p>44898 rows × 5 columns</p>\n",
       "</div>"
      ],
      "text/plain": [
       "                                                   title  \\\n",
       "0      As U.S. budget fight looms, Republicans flip t...   \n",
       "1      U.S. military to accept transgender recruits o...   \n",
       "2      Senior U.S. Republican senator: 'Let Mr. Muell...   \n",
       "3      FBI Russia probe helped by Australian diplomat...   \n",
       "4      Trump wants Postal Service to charge 'much mor...   \n",
       "...                                                  ...   \n",
       "44893  McPain: John McCain Furious That Iran Treated ...   \n",
       "44894  JUSTICE? Yahoo Settles E-mail Privacy Class-ac...   \n",
       "44895  Sunnistan: US and Allied ‘Safe Zone’ Plan to T...   \n",
       "44896  How to Blow $700 Million: Al Jazeera America F...   \n",
       "44897  10 U.S. Navy Sailors Held by Iranian Military ...   \n",
       "\n",
       "                                                    text       subject  \\\n",
       "0      WASHINGTON (Reuters) - The head of a conservat...  politicsNews   \n",
       "1      WASHINGTON (Reuters) - Transgender people will...  politicsNews   \n",
       "2      WASHINGTON (Reuters) - The special counsel inv...  politicsNews   \n",
       "3      WASHINGTON (Reuters) - Trump campaign adviser ...  politicsNews   \n",
       "4      SEATTLE/WASHINGTON (Reuters) - President Donal...  politicsNews   \n",
       "...                                                  ...           ...   \n",
       "44893  21st Century Wire says As 21WIRE reported earl...   Middle-east   \n",
       "44894  21st Century Wire says It s a familiar theme. ...   Middle-east   \n",
       "44895  Patrick Henningsen  21st Century WireRemember ...   Middle-east   \n",
       "44896  21st Century Wire says Al Jazeera America will...   Middle-east   \n",
       "44897  21st Century Wire says As 21WIRE predicted in ...   Middle-east   \n",
       "\n",
       "                     date  label  \n",
       "0      December 31, 2017       0  \n",
       "1      December 29, 2017       0  \n",
       "2      December 31, 2017       0  \n",
       "3      December 30, 2017       0  \n",
       "4      December 29, 2017       0  \n",
       "...                   ...    ...  \n",
       "44893    January 16, 2016      1  \n",
       "44894    January 16, 2016      1  \n",
       "44895    January 15, 2016      1  \n",
       "44896    January 14, 2016      1  \n",
       "44897    January 12, 2016      1  \n",
       "\n",
       "[44898 rows x 5 columns]"
      ]
     },
     "execution_count": 9,
     "metadata": {},
     "output_type": "execute_result"
    }
   ],
   "source": [
    "df_true['label'] = 0\n",
    "df_fake['label'] = 1\n",
    "df = pd.concat([df_true, df_fake], ignore_index=True)\n",
    "df\n"
   ]
  },
  {
   "cell_type": "code",
   "execution_count": 10,
   "id": "b690fed8",
   "metadata": {
    "execution": {
     "iopub.execute_input": "2023-12-07T12:45:32.480197Z",
     "iopub.status.busy": "2023-12-07T12:45:32.479753Z",
     "iopub.status.idle": "2023-12-07T12:45:32.489748Z",
     "shell.execute_reply": "2023-12-07T12:45:32.488437Z"
    },
    "papermill": {
     "duration": 0.025785,
     "end_time": "2023-12-07T12:45:32.492746",
     "exception": false,
     "start_time": "2023-12-07T12:45:32.466961",
     "status": "completed"
    },
    "tags": []
   },
   "outputs": [
    {
     "data": {
      "text/plain": [
       "title      object\n",
       "text       object\n",
       "subject    object\n",
       "date       object\n",
       "label       int64\n",
       "dtype: object"
      ]
     },
     "execution_count": 10,
     "metadata": {},
     "output_type": "execute_result"
    }
   ],
   "source": [
    "df.dtypes"
   ]
  },
  {
   "cell_type": "code",
   "execution_count": 11,
   "id": "52a360a7",
   "metadata": {
    "execution": {
     "iopub.execute_input": "2023-12-07T12:45:32.517455Z",
     "iopub.status.busy": "2023-12-07T12:45:32.517075Z",
     "iopub.status.idle": "2023-12-07T12:45:32.547928Z",
     "shell.execute_reply": "2023-12-07T12:45:32.546350Z"
    },
    "papermill": {
     "duration": 0.0465,
     "end_time": "2023-12-07T12:45:32.550959",
     "exception": false,
     "start_time": "2023-12-07T12:45:32.504459",
     "status": "completed"
    },
    "tags": []
   },
   "outputs": [],
   "source": [
    "# merging the subject name and news title\n",
    "df['content'] = df['subject']+' '+df['title']"
   ]
  },
  {
   "cell_type": "code",
   "execution_count": 12,
   "id": "cf76740f",
   "metadata": {
    "execution": {
     "iopub.execute_input": "2023-12-07T12:45:32.577377Z",
     "iopub.status.busy": "2023-12-07T12:45:32.576946Z",
     "iopub.status.idle": "2023-12-07T12:45:32.593704Z",
     "shell.execute_reply": "2023-12-07T12:45:32.592346Z"
    },
    "papermill": {
     "duration": 0.033465,
     "end_time": "2023-12-07T12:45:32.596710",
     "exception": false,
     "start_time": "2023-12-07T12:45:32.563245",
     "status": "completed"
    },
    "tags": []
   },
   "outputs": [
    {
     "data": {
      "text/html": [
       "<div>\n",
       "<style scoped>\n",
       "    .dataframe tbody tr th:only-of-type {\n",
       "        vertical-align: middle;\n",
       "    }\n",
       "\n",
       "    .dataframe tbody tr th {\n",
       "        vertical-align: top;\n",
       "    }\n",
       "\n",
       "    .dataframe thead th {\n",
       "        text-align: right;\n",
       "    }\n",
       "</style>\n",
       "<table border=\"1\" class=\"dataframe\">\n",
       "  <thead>\n",
       "    <tr style=\"text-align: right;\">\n",
       "      <th></th>\n",
       "      <th>title</th>\n",
       "      <th>text</th>\n",
       "      <th>subject</th>\n",
       "      <th>date</th>\n",
       "      <th>label</th>\n",
       "      <th>content</th>\n",
       "    </tr>\n",
       "  </thead>\n",
       "  <tbody>\n",
       "    <tr>\n",
       "      <th>0</th>\n",
       "      <td>As U.S. budget fight looms, Republicans flip t...</td>\n",
       "      <td>WASHINGTON (Reuters) - The head of a conservat...</td>\n",
       "      <td>politicsNews</td>\n",
       "      <td>December 31, 2017</td>\n",
       "      <td>0</td>\n",
       "      <td>politicsNews As U.S. budget fight looms, Repub...</td>\n",
       "    </tr>\n",
       "    <tr>\n",
       "      <th>1</th>\n",
       "      <td>U.S. military to accept transgender recruits o...</td>\n",
       "      <td>WASHINGTON (Reuters) - Transgender people will...</td>\n",
       "      <td>politicsNews</td>\n",
       "      <td>December 29, 2017</td>\n",
       "      <td>0</td>\n",
       "      <td>politicsNews U.S. military to accept transgend...</td>\n",
       "    </tr>\n",
       "    <tr>\n",
       "      <th>2</th>\n",
       "      <td>Senior U.S. Republican senator: 'Let Mr. Muell...</td>\n",
       "      <td>WASHINGTON (Reuters) - The special counsel inv...</td>\n",
       "      <td>politicsNews</td>\n",
       "      <td>December 31, 2017</td>\n",
       "      <td>0</td>\n",
       "      <td>politicsNews Senior U.S. Republican senator: '...</td>\n",
       "    </tr>\n",
       "    <tr>\n",
       "      <th>3</th>\n",
       "      <td>FBI Russia probe helped by Australian diplomat...</td>\n",
       "      <td>WASHINGTON (Reuters) - Trump campaign adviser ...</td>\n",
       "      <td>politicsNews</td>\n",
       "      <td>December 30, 2017</td>\n",
       "      <td>0</td>\n",
       "      <td>politicsNews FBI Russia probe helped by Austra...</td>\n",
       "    </tr>\n",
       "    <tr>\n",
       "      <th>4</th>\n",
       "      <td>Trump wants Postal Service to charge 'much mor...</td>\n",
       "      <td>SEATTLE/WASHINGTON (Reuters) - President Donal...</td>\n",
       "      <td>politicsNews</td>\n",
       "      <td>December 29, 2017</td>\n",
       "      <td>0</td>\n",
       "      <td>politicsNews Trump wants Postal Service to cha...</td>\n",
       "    </tr>\n",
       "  </tbody>\n",
       "</table>\n",
       "</div>"
      ],
      "text/plain": [
       "                                               title  \\\n",
       "0  As U.S. budget fight looms, Republicans flip t...   \n",
       "1  U.S. military to accept transgender recruits o...   \n",
       "2  Senior U.S. Republican senator: 'Let Mr. Muell...   \n",
       "3  FBI Russia probe helped by Australian diplomat...   \n",
       "4  Trump wants Postal Service to charge 'much mor...   \n",
       "\n",
       "                                                text       subject  \\\n",
       "0  WASHINGTON (Reuters) - The head of a conservat...  politicsNews   \n",
       "1  WASHINGTON (Reuters) - Transgender people will...  politicsNews   \n",
       "2  WASHINGTON (Reuters) - The special counsel inv...  politicsNews   \n",
       "3  WASHINGTON (Reuters) - Trump campaign adviser ...  politicsNews   \n",
       "4  SEATTLE/WASHINGTON (Reuters) - President Donal...  politicsNews   \n",
       "\n",
       "                 date  label  \\\n",
       "0  December 31, 2017       0   \n",
       "1  December 29, 2017       0   \n",
       "2  December 31, 2017       0   \n",
       "3  December 30, 2017       0   \n",
       "4  December 29, 2017       0   \n",
       "\n",
       "                                             content  \n",
       "0  politicsNews As U.S. budget fight looms, Repub...  \n",
       "1  politicsNews U.S. military to accept transgend...  \n",
       "2  politicsNews Senior U.S. Republican senator: '...  \n",
       "3  politicsNews FBI Russia probe helped by Austra...  \n",
       "4  politicsNews Trump wants Postal Service to cha...  "
      ]
     },
     "execution_count": 12,
     "metadata": {},
     "output_type": "execute_result"
    }
   ],
   "source": [
    "df.head()"
   ]
  },
  {
   "cell_type": "markdown",
   "id": "fa1e3952",
   "metadata": {
    "papermill": {
     "duration": 0.012316,
     "end_time": "2023-12-07T12:45:32.621705",
     "exception": false,
     "start_time": "2023-12-07T12:45:32.609389",
     "status": "completed"
    },
    "tags": []
   },
   "source": [
    "# **Stemming**"
   ]
  },
  {
   "cell_type": "markdown",
   "id": "efebfd7d",
   "metadata": {
    "papermill": {
     "duration": 0.011661,
     "end_time": "2023-12-07T12:45:32.644880",
     "exception": false,
     "start_time": "2023-12-07T12:45:32.633219",
     "status": "completed"
    },
    "tags": []
   },
   "source": [
    "we use stemming to return a word to its root like :\n",
    "running --< run\n",
    "making --< make ...etc\n",
    "and this procedure makes the work with text easier."
   ]
  },
  {
   "cell_type": "code",
   "execution_count": 13,
   "id": "c552280e",
   "metadata": {
    "execution": {
     "iopub.execute_input": "2023-12-07T12:45:32.670797Z",
     "iopub.status.busy": "2023-12-07T12:45:32.670385Z",
     "iopub.status.idle": "2023-12-07T12:45:32.676639Z",
     "shell.execute_reply": "2023-12-07T12:45:32.674784Z"
    },
    "papermill": {
     "duration": 0.023108,
     "end_time": "2023-12-07T12:45:32.679958",
     "exception": false,
     "start_time": "2023-12-07T12:45:32.656850",
     "status": "completed"
    },
    "tags": []
   },
   "outputs": [],
   "source": [
    "port_stem = PorterStemmer()"
   ]
  },
  {
   "cell_type": "code",
   "execution_count": 14,
   "id": "280eb90c",
   "metadata": {
    "execution": {
     "iopub.execute_input": "2023-12-07T12:45:32.704938Z",
     "iopub.status.busy": "2023-12-07T12:45:32.704519Z",
     "iopub.status.idle": "2023-12-07T12:45:32.711526Z",
     "shell.execute_reply": "2023-12-07T12:45:32.709993Z"
    },
    "papermill": {
     "duration": 0.023755,
     "end_time": "2023-12-07T12:45:32.715234",
     "exception": false,
     "start_time": "2023-12-07T12:45:32.691479",
     "status": "completed"
    },
    "tags": []
   },
   "outputs": [],
   "source": [
    "def stemming(content):\n",
    "    stemmed_content = re.sub('[^a-zA-Z]',' ',content)\n",
    "    stemmed_content = stemmed_content.lower()\n",
    "    stemmed_content = stemmed_content.split()\n",
    "    stemmed_content = [port_stem.stem(word) for word in stemmed_content if not word in stopwords.words('english')]\n",
    "    stemmed_content = ' '.join(stemmed_content)\n",
    "    return stemmed_content"
   ]
  },
  {
   "cell_type": "code",
   "execution_count": 15,
   "id": "a2bb9f7f",
   "metadata": {
    "execution": {
     "iopub.execute_input": "2023-12-07T12:45:32.740737Z",
     "iopub.status.busy": "2023-12-07T12:45:32.740333Z",
     "iopub.status.idle": "2023-12-07T12:47:27.353665Z",
     "shell.execute_reply": "2023-12-07T12:47:27.352377Z"
    },
    "papermill": {
     "duration": 114.629856,
     "end_time": "2023-12-07T12:47:27.356775",
     "exception": false,
     "start_time": "2023-12-07T12:45:32.726919",
     "status": "completed"
    },
    "tags": []
   },
   "outputs": [],
   "source": [
    "# applying our function on content column\n",
    "df['content'] = df['content'].apply(stemming)"
   ]
  },
  {
   "cell_type": "code",
   "execution_count": 16,
   "id": "d7a053b2",
   "metadata": {
    "execution": {
     "iopub.execute_input": "2023-12-07T12:47:27.381801Z",
     "iopub.status.busy": "2023-12-07T12:47:27.381381Z",
     "iopub.status.idle": "2023-12-07T12:47:27.390468Z",
     "shell.execute_reply": "2023-12-07T12:47:27.389049Z"
    },
    "papermill": {
     "duration": 0.024836,
     "end_time": "2023-12-07T12:47:27.393236",
     "exception": false,
     "start_time": "2023-12-07T12:47:27.368400",
     "status": "completed"
    },
    "tags": []
   },
   "outputs": [
    {
     "name": "stdout",
     "output_type": "stream",
     "text": [
      "0        politicsnew u budget fight loom republican fli...\n",
      "1        politicsnew u militari accept transgend recrui...\n",
      "2        politicsnew senior u republican senat let mr m...\n",
      "3        politicsnew fbi russia probe help australian d...\n",
      "4        politicsnew trump want postal servic charg muc...\n",
      "                               ...                        \n",
      "44893    middl east mcpain john mccain furiou iran trea...\n",
      "44894    middl east justic yahoo settl e mail privaci c...\n",
      "44895    middl east sunnistan us alli safe zone plan ta...\n",
      "44896    middl east blow million al jazeera america fin...\n",
      "44897    middl east u navi sailor held iranian militari...\n",
      "Name: content, Length: 44898, dtype: object\n"
     ]
    }
   ],
   "source": [
    "print(df['content'])"
   ]
  },
  {
   "cell_type": "code",
   "execution_count": 17,
   "id": "eef8698c",
   "metadata": {
    "execution": {
     "iopub.execute_input": "2023-12-07T12:47:27.419573Z",
     "iopub.status.busy": "2023-12-07T12:47:27.419001Z",
     "iopub.status.idle": "2023-12-07T12:47:27.425244Z",
     "shell.execute_reply": "2023-12-07T12:47:27.423832Z"
    },
    "papermill": {
     "duration": 0.023162,
     "end_time": "2023-12-07T12:47:27.427957",
     "exception": false,
     "start_time": "2023-12-07T12:47:27.404795",
     "status": "completed"
    },
    "tags": []
   },
   "outputs": [],
   "source": [
    "# applying our function on text column (it takes many time,so you can apply it on content only )\n",
    "\n",
    "#df['text'] = df['text'].apply(stemming)\n"
   ]
  },
  {
   "cell_type": "markdown",
   "id": "8d395409",
   "metadata": {
    "papermill": {
     "duration": 0.011719,
     "end_time": "2023-12-07T12:47:27.451260",
     "exception": false,
     "start_time": "2023-12-07T12:47:27.439541",
     "status": "completed"
    },
    "tags": []
   },
   "source": [
    "To simplfy, i will use content column only and i will ignore (text) because takes many time to process , but its better to use (text) if you have time . "
   ]
  },
  {
   "cell_type": "markdown",
   "id": "bc2e986f",
   "metadata": {
    "papermill": {
     "duration": 0.011237,
     "end_time": "2023-12-07T12:47:27.474306",
     "exception": false,
     "start_time": "2023-12-07T12:47:27.463069",
     "status": "completed"
    },
    "tags": []
   },
   "source": [
    "# **Creating Model**"
   ]
  },
  {
   "cell_type": "code",
   "execution_count": 18,
   "id": "1eb5f413",
   "metadata": {
    "execution": {
     "iopub.execute_input": "2023-12-07T12:47:27.501723Z",
     "iopub.status.busy": "2023-12-07T12:47:27.500602Z",
     "iopub.status.idle": "2023-12-07T12:47:27.506141Z",
     "shell.execute_reply": "2023-12-07T12:47:27.505141Z"
    },
    "papermill": {
     "duration": 0.022814,
     "end_time": "2023-12-07T12:47:27.508733",
     "exception": false,
     "start_time": "2023-12-07T12:47:27.485919",
     "status": "completed"
    },
    "tags": []
   },
   "outputs": [],
   "source": [
    "#difining x,y\n",
    "X = df['content'].values\n",
    "Y = df['label'].values"
   ]
  },
  {
   "cell_type": "code",
   "execution_count": 19,
   "id": "8b816e57",
   "metadata": {
    "execution": {
     "iopub.execute_input": "2023-12-07T12:47:27.534367Z",
     "iopub.status.busy": "2023-12-07T12:47:27.533971Z",
     "iopub.status.idle": "2023-12-07T12:47:29.216562Z",
     "shell.execute_reply": "2023-12-07T12:47:29.215285Z"
    },
    "papermill": {
     "duration": 1.699125,
     "end_time": "2023-12-07T12:47:29.219591",
     "exception": false,
     "start_time": "2023-12-07T12:47:27.520466",
     "status": "completed"
    },
    "tags": []
   },
   "outputs": [],
   "source": [
    "#vectorizing x \n",
    "vectorizer = TfidfVectorizer()\n",
    "vectorizer.fit(X)\n",
    "\n",
    "X = vectorizer.transform(X)"
   ]
  },
  {
   "cell_type": "code",
   "execution_count": 20,
   "id": "73f04890",
   "metadata": {
    "execution": {
     "iopub.execute_input": "2023-12-07T12:47:29.246293Z",
     "iopub.status.busy": "2023-12-07T12:47:29.245074Z",
     "iopub.status.idle": "2023-12-07T12:47:29.259408Z",
     "shell.execute_reply": "2023-12-07T12:47:29.258362Z"
    },
    "papermill": {
     "duration": 0.029717,
     "end_time": "2023-12-07T12:47:29.261928",
     "exception": false,
     "start_time": "2023-12-07T12:47:29.232211",
     "status": "completed"
    },
    "tags": []
   },
   "outputs": [],
   "source": [
    "#spliting x,y\n",
    "x_train,x_test,y_train,y_test = train_test_split(X,Y,test_size=0.8,random_state=0,shuffle=True)"
   ]
  },
  {
   "cell_type": "code",
   "execution_count": 21,
   "id": "9d4e5223",
   "metadata": {
    "execution": {
     "iopub.execute_input": "2023-12-07T12:47:29.287449Z",
     "iopub.status.busy": "2023-12-07T12:47:29.286437Z",
     "iopub.status.idle": "2023-12-07T12:47:29.689729Z",
     "shell.execute_reply": "2023-12-07T12:47:29.688073Z"
    },
    "papermill": {
     "duration": 0.420823,
     "end_time": "2023-12-07T12:47:29.694115",
     "exception": false,
     "start_time": "2023-12-07T12:47:29.273292",
     "status": "completed"
    },
    "tags": []
   },
   "outputs": [
    {
     "data": {
      "text/html": [
       "<style>#sk-container-id-1 {color: black;background-color: white;}#sk-container-id-1 pre{padding: 0;}#sk-container-id-1 div.sk-toggleable {background-color: white;}#sk-container-id-1 label.sk-toggleable__label {cursor: pointer;display: block;width: 100%;margin-bottom: 0;padding: 0.3em;box-sizing: border-box;text-align: center;}#sk-container-id-1 label.sk-toggleable__label-arrow:before {content: \"▸\";float: left;margin-right: 0.25em;color: #696969;}#sk-container-id-1 label.sk-toggleable__label-arrow:hover:before {color: black;}#sk-container-id-1 div.sk-estimator:hover label.sk-toggleable__label-arrow:before {color: black;}#sk-container-id-1 div.sk-toggleable__content {max-height: 0;max-width: 0;overflow: hidden;text-align: left;background-color: #f0f8ff;}#sk-container-id-1 div.sk-toggleable__content pre {margin: 0.2em;color: black;border-radius: 0.25em;background-color: #f0f8ff;}#sk-container-id-1 input.sk-toggleable__control:checked~div.sk-toggleable__content {max-height: 200px;max-width: 100%;overflow: auto;}#sk-container-id-1 input.sk-toggleable__control:checked~label.sk-toggleable__label-arrow:before {content: \"▾\";}#sk-container-id-1 div.sk-estimator input.sk-toggleable__control:checked~label.sk-toggleable__label {background-color: #d4ebff;}#sk-container-id-1 div.sk-label input.sk-toggleable__control:checked~label.sk-toggleable__label {background-color: #d4ebff;}#sk-container-id-1 input.sk-hidden--visually {border: 0;clip: rect(1px 1px 1px 1px);clip: rect(1px, 1px, 1px, 1px);height: 1px;margin: -1px;overflow: hidden;padding: 0;position: absolute;width: 1px;}#sk-container-id-1 div.sk-estimator {font-family: monospace;background-color: #f0f8ff;border: 1px dotted black;border-radius: 0.25em;box-sizing: border-box;margin-bottom: 0.5em;}#sk-container-id-1 div.sk-estimator:hover {background-color: #d4ebff;}#sk-container-id-1 div.sk-parallel-item::after {content: \"\";width: 100%;border-bottom: 1px solid gray;flex-grow: 1;}#sk-container-id-1 div.sk-label:hover label.sk-toggleable__label {background-color: #d4ebff;}#sk-container-id-1 div.sk-serial::before {content: \"\";position: absolute;border-left: 1px solid gray;box-sizing: border-box;top: 0;bottom: 0;left: 50%;z-index: 0;}#sk-container-id-1 div.sk-serial {display: flex;flex-direction: column;align-items: center;background-color: white;padding-right: 0.2em;padding-left: 0.2em;position: relative;}#sk-container-id-1 div.sk-item {position: relative;z-index: 1;}#sk-container-id-1 div.sk-parallel {display: flex;align-items: stretch;justify-content: center;background-color: white;position: relative;}#sk-container-id-1 div.sk-item::before, #sk-container-id-1 div.sk-parallel-item::before {content: \"\";position: absolute;border-left: 1px solid gray;box-sizing: border-box;top: 0;bottom: 0;left: 50%;z-index: -1;}#sk-container-id-1 div.sk-parallel-item {display: flex;flex-direction: column;z-index: 1;position: relative;background-color: white;}#sk-container-id-1 div.sk-parallel-item:first-child::after {align-self: flex-end;width: 50%;}#sk-container-id-1 div.sk-parallel-item:last-child::after {align-self: flex-start;width: 50%;}#sk-container-id-1 div.sk-parallel-item:only-child::after {width: 0;}#sk-container-id-1 div.sk-dashed-wrapped {border: 1px dashed gray;margin: 0 0.4em 0.5em 0.4em;box-sizing: border-box;padding-bottom: 0.4em;background-color: white;}#sk-container-id-1 div.sk-label label {font-family: monospace;font-weight: bold;display: inline-block;line-height: 1.2em;}#sk-container-id-1 div.sk-label-container {text-align: center;}#sk-container-id-1 div.sk-container {/* jupyter's `normalize.less` sets `[hidden] { display: none; }` but bootstrap.min.css set `[hidden] { display: none !important; }` so we also need the `!important` here to be able to override the default hidden behavior on the sphinx rendered scikit-learn.org. See: https://github.com/scikit-learn/scikit-learn/issues/21755 */display: inline-block !important;position: relative;}#sk-container-id-1 div.sk-text-repr-fallback {display: none;}</style><div id=\"sk-container-id-1\" class=\"sk-top-container\"><div class=\"sk-text-repr-fallback\"><pre>LogisticRegression()</pre><b>In a Jupyter environment, please rerun this cell to show the HTML representation or trust the notebook. <br />On GitHub, the HTML representation is unable to render, please try loading this page with nbviewer.org.</b></div><div class=\"sk-container\" hidden><div class=\"sk-item\"><div class=\"sk-estimator sk-toggleable\"><input class=\"sk-toggleable__control sk-hidden--visually\" id=\"sk-estimator-id-1\" type=\"checkbox\" checked><label for=\"sk-estimator-id-1\" class=\"sk-toggleable__label sk-toggleable__label-arrow\">LogisticRegression</label><div class=\"sk-toggleable__content\"><pre>LogisticRegression()</pre></div></div></div></div></div>"
      ],
      "text/plain": [
       "LogisticRegression()"
      ]
     },
     "execution_count": 21,
     "metadata": {},
     "output_type": "execute_result"
    }
   ],
   "source": [
    "#applying Algorithm\n",
    "LR = LogisticRegression()\n",
    "LR.fit(x_train, y_train)"
   ]
  },
  {
   "cell_type": "markdown",
   "id": "e5cf6ac1",
   "metadata": {
    "papermill": {
     "duration": 0.043963,
     "end_time": "2023-12-07T12:47:29.801516",
     "exception": false,
     "start_time": "2023-12-07T12:47:29.757553",
     "status": "completed"
    },
    "tags": []
   },
   "source": [
    "# **Model Evaluation**"
   ]
  },
  {
   "cell_type": "code",
   "execution_count": 22,
   "id": "d5eca1dd",
   "metadata": {
    "execution": {
     "iopub.execute_input": "2023-12-07T12:47:29.826830Z",
     "iopub.status.busy": "2023-12-07T12:47:29.826388Z",
     "iopub.status.idle": "2023-12-07T12:47:29.837745Z",
     "shell.execute_reply": "2023-12-07T12:47:29.836452Z"
    },
    "papermill": {
     "duration": 0.027788,
     "end_time": "2023-12-07T12:47:29.841155",
     "exception": false,
     "start_time": "2023-12-07T12:47:29.813367",
     "status": "completed"
    },
    "tags": []
   },
   "outputs": [],
   "source": [
    "pred = LR.predict(x_test)\n",
    "accuracy = accuracy_score(pred, y_test)\n"
   ]
  },
  {
   "cell_type": "code",
   "execution_count": 23,
   "id": "54446a8c",
   "metadata": {
    "execution": {
     "iopub.execute_input": "2023-12-07T12:47:29.935691Z",
     "iopub.status.busy": "2023-12-07T12:47:29.934864Z",
     "iopub.status.idle": "2023-12-07T12:47:29.940990Z",
     "shell.execute_reply": "2023-12-07T12:47:29.939613Z"
    },
    "papermill": {
     "duration": 0.090363,
     "end_time": "2023-12-07T12:47:29.943523",
     "exception": false,
     "start_time": "2023-12-07T12:47:29.853160",
     "status": "completed"
    },
    "tags": []
   },
   "outputs": [
    {
     "name": "stdout",
     "output_type": "stream",
     "text": [
      "The accuracy score is  :  0.9998607979064005\n"
     ]
    }
   ],
   "source": [
    "print('The accuracy score is  : ', accuracy)"
   ]
  }
 ],
 "metadata": {
  "kaggle": {
   "accelerator": "none",
   "dataSources": [
    {
     "datasetId": 572515,
     "sourceId": 1037534,
     "sourceType": "datasetVersion"
    }
   ],
   "dockerImageVersionId": 30587,
   "isGpuEnabled": false,
   "isInternetEnabled": false,
   "language": "python",
   "sourceType": "notebook"
  },
  "kernelspec": {
   "display_name": "Python 3",
   "language": "python",
   "name": "python3"
  },
  "language_info": {
   "codemirror_mode": {
    "name": "ipython",
    "version": 3
   },
   "file_extension": ".py",
   "mimetype": "text/x-python",
   "name": "python",
   "nbconvert_exporter": "python",
   "pygments_lexer": "ipython3",
   "version": "3.10.12"
  },
  "papermill": {
   "default_parameters": {},
   "duration": 148.311328,
   "end_time": "2023-12-07T12:47:30.679200",
   "environment_variables": {},
   "exception": null,
   "input_path": "__notebook__.ipynb",
   "output_path": "__notebook__.ipynb",
   "parameters": {},
   "start_time": "2023-12-07T12:45:02.367872",
   "version": "2.4.0"
  }
 },
 "nbformat": 4,
 "nbformat_minor": 5
}
